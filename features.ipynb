{
 "cells": [
  {
   "cell_type": "markdown",
   "metadata": {
    "tags": [
     "pdf-title"
    ]
   },
   "source": [
    "# Image features exercise\n",
    "*Complete and hand in this completed worksheet (including its outputs and any supporting code outside of the worksheet) with your assignment submission. For more details see the [assignments page](http://vision.stanford.edu/teaching/cs231n/assignments.html) on the course website.*\n",
    "\n",
    "We have seen that we can achieve reasonable performance on an image classification task by training a linear classifier on the pixels of the input image. In this exercise we will show that we can improve our classification performance by training linear classifiers not on raw pixels but on features that are computed from the raw pixels.\n",
    "\n",
    "All of your work for this exercise will be done in this notebook."
   ]
  },
  {
   "cell_type": "code",
   "execution_count": 1,
   "metadata": {
    "tags": [
     "pdf-ignore"
    ]
   },
   "outputs": [],
   "source": [
    "import random\n",
    "import numpy as np\n",
    "from cs231n.data_utils import load_CIFAR10\n",
    "import matplotlib.pyplot as plt\n",
    "\n",
    "\n",
    "%matplotlib inline\n",
    "plt.rcParams['figure.figsize'] = (10.0, 8.0) # set default size of plots\n",
    "plt.rcParams['image.interpolation'] = 'nearest'\n",
    "plt.rcParams['image.cmap'] = 'gray'\n",
    "\n",
    "# for auto-reloading extenrnal modules\n",
    "# see http://stackoverflow.com/questions/1907993/autoreload-of-modules-in-ipython\n",
    "%load_ext autoreload\n",
    "%autoreload 2"
   ]
  },
  {
   "cell_type": "markdown",
   "metadata": {
    "tags": [
     "pdf-ignore"
    ]
   },
   "source": [
    "## Load data\n",
    "Similar to previous exercises, we will load CIFAR-10 data from disk."
   ]
  },
  {
   "cell_type": "code",
   "execution_count": 2,
   "metadata": {
    "tags": [
     "pdf-ignore"
    ]
   },
   "outputs": [],
   "source": [
    "from cs231n.features import color_histogram_hsv, hog_feature\n",
    "\n",
    "def get_CIFAR10_data(num_training=49000, num_validation=1000, num_test=1000):\n",
    "    # Load the raw CIFAR-10 data\n",
    "    cifar10_dir = 'cs231n/datasets/cifar-10-batches-py'\n",
    "\n",
    "    # Cleaning up variables to prevent loading data multiple times (which may cause memory issue)\n",
    "    try:\n",
    "       del X_train, y_train\n",
    "       del X_test, y_test\n",
    "       print('Clear previously loaded data.')\n",
    "    except:\n",
    "       pass\n",
    "\n",
    "    X_train, y_train, X_test, y_test = load_CIFAR10(cifar10_dir)\n",
    "    \n",
    "    # Subsample the data\n",
    "    mask = list(range(num_training, num_training + num_validation))\n",
    "    X_val = X_train[mask]\n",
    "    y_val = y_train[mask]\n",
    "    mask = list(range(num_training))\n",
    "    X_train = X_train[mask]\n",
    "    y_train = y_train[mask]\n",
    "    mask = list(range(num_test))\n",
    "    X_test = X_test[mask]\n",
    "    y_test = y_test[mask]\n",
    "    \n",
    "    return X_train, y_train, X_val, y_val, X_test, y_test\n",
    "\n",
    "X_train, y_train, X_val, y_val, X_test, y_test = get_CIFAR10_data()"
   ]
  },
  {
   "cell_type": "markdown",
   "metadata": {
    "tags": [
     "pdf-ignore"
    ]
   },
   "source": [
    "## Extract Features\n",
    "For each image we will compute a Histogram of Oriented\n",
    "Gradients (HOG) as well as a color histogram using the hue channel in HSV\n",
    "color space. We form our final feature vector for each image by concatenating\n",
    "the HOG and color histogram feature vectors.\n",
    "\n",
    "Roughly speaking, HOG should capture the texture of the image while ignoring\n",
    "color information, and the color histogram represents the color of the input\n",
    "image while ignoring texture. As a result, we expect that using both together\n",
    "ought to work better than using either alone. Verifying this assumption would\n",
    "be a good thing to try for your own interest.\n",
    "\n",
    "The `hog_feature` and `color_histogram_hsv` functions both operate on a single\n",
    "image and return a feature vector for that image. The extract_features\n",
    "function takes a set of images and a list of feature functions and evaluates\n",
    "each feature function on each image, storing the results in a matrix where\n",
    "each column is the concatenation of all feature vectors for a single image."
   ]
  },
  {
   "cell_type": "code",
   "execution_count": 3,
   "metadata": {
    "scrolled": true,
    "tags": [
     "pdf-ignore"
    ]
   },
   "outputs": [
    {
     "name": "stdout",
     "output_type": "stream",
     "text": [
      "Done extracting features for 1000 / 49000 images\n",
      "Done extracting features for 2000 / 49000 images\n",
      "Done extracting features for 3000 / 49000 images\n",
      "Done extracting features for 4000 / 49000 images\n",
      "Done extracting features for 5000 / 49000 images\n",
      "Done extracting features for 6000 / 49000 images\n",
      "Done extracting features for 7000 / 49000 images\n",
      "Done extracting features for 8000 / 49000 images\n",
      "Done extracting features for 9000 / 49000 images\n",
      "Done extracting features for 10000 / 49000 images\n",
      "Done extracting features for 11000 / 49000 images\n",
      "Done extracting features for 12000 / 49000 images\n",
      "Done extracting features for 13000 / 49000 images\n",
      "Done extracting features for 14000 / 49000 images\n",
      "Done extracting features for 15000 / 49000 images\n",
      "Done extracting features for 16000 / 49000 images\n",
      "Done extracting features for 17000 / 49000 images\n",
      "Done extracting features for 18000 / 49000 images\n",
      "Done extracting features for 19000 / 49000 images\n",
      "Done extracting features for 20000 / 49000 images\n",
      "Done extracting features for 21000 / 49000 images\n",
      "Done extracting features for 22000 / 49000 images\n",
      "Done extracting features for 23000 / 49000 images\n",
      "Done extracting features for 24000 / 49000 images\n",
      "Done extracting features for 25000 / 49000 images\n",
      "Done extracting features for 26000 / 49000 images\n",
      "Done extracting features for 27000 / 49000 images\n",
      "Done extracting features for 28000 / 49000 images\n",
      "Done extracting features for 29000 / 49000 images\n",
      "Done extracting features for 30000 / 49000 images\n",
      "Done extracting features for 31000 / 49000 images\n",
      "Done extracting features for 32000 / 49000 images\n",
      "Done extracting features for 33000 / 49000 images\n",
      "Done extracting features for 34000 / 49000 images\n",
      "Done extracting features for 35000 / 49000 images\n",
      "Done extracting features for 36000 / 49000 images\n",
      "Done extracting features for 37000 / 49000 images\n",
      "Done extracting features for 38000 / 49000 images\n",
      "Done extracting features for 39000 / 49000 images\n",
      "Done extracting features for 40000 / 49000 images\n",
      "Done extracting features for 41000 / 49000 images\n",
      "Done extracting features for 42000 / 49000 images\n",
      "Done extracting features for 43000 / 49000 images\n",
      "Done extracting features for 44000 / 49000 images\n",
      "Done extracting features for 45000 / 49000 images\n",
      "Done extracting features for 46000 / 49000 images\n",
      "Done extracting features for 47000 / 49000 images\n",
      "Done extracting features for 48000 / 49000 images\n",
      "Done extracting features for 49000 / 49000 images\n"
     ]
    }
   ],
   "source": [
    "from cs231n.features import *\n",
    "\n",
    "num_color_bins = 10 # Number of bins in the color histogram\n",
    "feature_fns = [hog_feature, lambda img: color_histogram_hsv(img, nbin=num_color_bins)]\n",
    "X_train_feats = extract_features(X_train, feature_fns, verbose=True)\n",
    "X_val_feats = extract_features(X_val, feature_fns)\n",
    "X_test_feats = extract_features(X_test, feature_fns)\n",
    "\n",
    "# Preprocessing: Subtract the mean feature\n",
    "mean_feat = np.mean(X_train_feats, axis=0, keepdims=True)\n",
    "X_train_feats -= mean_feat\n",
    "X_val_feats -= mean_feat\n",
    "X_test_feats -= mean_feat\n",
    "\n",
    "# Preprocessing: Divide by standard deviation. This ensures that each feature\n",
    "# has roughly the same scale.\n",
    "std_feat = np.std(X_train_feats, axis=0, keepdims=True)\n",
    "X_train_feats /= std_feat\n",
    "X_val_feats /= std_feat\n",
    "X_test_feats /= std_feat\n",
    "\n",
    "# Preprocessing: Add a bias dimension\n",
    "X_train_feats = np.hstack([X_train_feats, np.ones((X_train_feats.shape[0], 1))])\n",
    "X_val_feats = np.hstack([X_val_feats, np.ones((X_val_feats.shape[0], 1))])\n",
    "X_test_feats = np.hstack([X_test_feats, np.ones((X_test_feats.shape[0], 1))])"
   ]
  },
  {
   "cell_type": "markdown",
   "metadata": {},
   "source": [
    "## Train SVM on features\n",
    "Using the multiclass SVM code developed earlier in the assignment, train SVMs on top of the features extracted above; this should achieve better results than training SVMs directly on top of raw pixels."
   ]
  },
  {
   "cell_type": "code",
   "execution_count": 7,
   "metadata": {
    "tags": [
     "code"
    ]
   },
   "outputs": [
    {
     "name": "stdout",
     "output_type": "stream",
     "text": [
      "iteration 0 / 100: loss 47.104858\n",
      "iteration 0 / 100: loss 425.166205\n",
      "iteration 0 / 100: loss 3577.111237\n",
      "iteration 0 / 100: loss 48.410481\n",
      "iteration 0 / 100: loss 370.144206\n",
      "iteration 0 / 100: loss 3833.514422\n",
      "iteration 0 / 100: loss 47.642132\n",
      "iteration 0 / 100: loss 407.949573\n",
      "iteration 0 / 100: loss 3851.909742\n",
      "lr 1.000000e-09 reg 5.000000e+04 train accuracy: 0.112776 val accuracy: 0.105000\n",
      "lr 1.000000e-09 reg 5.000000e+05 train accuracy: 0.091020 val accuracy: 0.101000\n",
      "lr 1.000000e-09 reg 5.000000e+06 train accuracy: 0.108531 val accuracy: 0.123000\n",
      "lr 1.000000e-08 reg 5.000000e+04 train accuracy: 0.086429 val accuracy: 0.096000\n",
      "lr 1.000000e-08 reg 5.000000e+05 train accuracy: 0.080408 val accuracy: 0.071000\n",
      "lr 1.000000e-08 reg 5.000000e+06 train accuracy: 0.097755 val accuracy: 0.093000\n",
      "lr 1.000000e-07 reg 5.000000e+04 train accuracy: 0.133367 val accuracy: 0.150000\n",
      "lr 1.000000e-07 reg 5.000000e+05 train accuracy: 0.120286 val accuracy: 0.095000\n",
      "lr 1.000000e-07 reg 5.000000e+06 train accuracy: 0.346980 val accuracy: 0.337000\n",
      "best validation accuracy achieved during cross-validation: 0.337000\n"
     ]
    }
   ],
   "source": [
    "# Use the validation set to tune the learning rate and regularization strength\n",
    "\n",
    "from cs231n.classifiers.linear_classifier import LinearSVM\n",
    "\n",
    "learning_rates = [1e-9, 1e-8, 1e-7]\n",
    "regularization_strengths = [5e4, 5e5, 5e6]\n",
    "\n",
    "results = {}\n",
    "best_val = -1\n",
    "best_svm = None\n",
    "\n",
    "################################################################################\n",
    "# TODO:                                                                        #\n",
    "# Use the validation set to set the learning rate and regularization strength. #\n",
    "# This should be identical to the validation that you did for the SVM; save    #\n",
    "# the best trained classifer in best_svm. You might also want to play          #\n",
    "# with different numbers of bins in the color histogram. If you are careful    #\n",
    "# you should be able to get accuracy of near 0.44 on the validation set.       #\n",
    "################################################################################\n",
    "# *****START OF YOUR CODE (DO NOT DELETE/MODIFY THIS LINE)*****\n",
    "\n",
    "for lr in learning_rates:\n",
    "    for reg in regularization_strengths:\n",
    "        linear_svm = LinearSVM()\n",
    "        linear_svm.train(X_train_feats, y_train, lr, reg)\n",
    "        \n",
    "        y_train_pred = linear_svm.predict(X_train_feats)\n",
    "        train_acc = (np.mean(y_train == y_train_pred))\n",
    "        \n",
    "        y_val_pred = linear_svm.predict(X_val_feats)\n",
    "        val_acc = (np.mean(y_val == y_val_pred))\n",
    "\n",
    "        if val_acc > best_val:\n",
    "            best_val = val_acc\n",
    "            best_svm = linear_svm\n",
    "            \n",
    "        key = (lr, reg)\n",
    "        val = (train_acc, val_acc)\n",
    "    \n",
    "        results[key] = val\n",
    "\n",
    "# *****END OF YOUR CODE (DO NOT DELETE/MODIFY THIS LINE)*****\n",
    "\n",
    "# Print out results.\n",
    "for lr, reg in sorted(results):\n",
    "    train_accuracy, val_accuracy = results[(lr, reg)]\n",
    "    print('lr %e reg %e train accuracy: %f val accuracy: %f' % (\n",
    "                lr, reg, train_accuracy, val_accuracy))\n",
    "    \n",
    "print('best validation accuracy achieved during cross-validation: %f' % best_val)"
   ]
  },
  {
   "cell_type": "code",
   "execution_count": 8,
   "metadata": {},
   "outputs": [
    {
     "name": "stdout",
     "output_type": "stream",
     "text": [
      "0.331\n"
     ]
    }
   ],
   "source": [
    "# Evaluate your trained SVM on the test set\n",
    "y_test_pred = best_svm.predict(X_test_feats)\n",
    "test_accuracy = np.mean(y_test == y_test_pred)\n",
    "print(test_accuracy)"
   ]
  },
  {
   "cell_type": "code",
   "execution_count": null,
   "metadata": {},
   "outputs": [],
   "source": [
    "# An important way to gain intuition about how an algorithm works is to\n",
    "# visualize the mistakes that it makes. In this visualization, we show examples\n",
    "# of images that are misclassified by our current system. The first column\n",
    "# shows images that our system labeled as \"plane\" but whose true label is\n",
    "# something other than \"plane\".\n",
    "\n",
    "examples_per_class = 8\n",
    "classes = ['plane', 'car', 'bird', 'cat', 'deer', 'dog', 'frog', 'horse', 'ship', 'truck']\n",
    "for cls, cls_name in enumerate(classes):\n",
    "    idxs = np.where((y_test != cls) & (y_test_pred == cls))[0]\n",
    "    idxs = np.random.choice(idxs, examples_per_class, replace=False)\n",
    "    for i, idx in enumerate(idxs):\n",
    "        plt.subplot(examples_per_class, len(classes), i * len(classes) + cls + 1)\n",
    "        plt.imshow(X_test[idx].astype('uint8'))\n",
    "        plt.axis('off')\n",
    "        if i == 0:\n",
    "            plt.title(cls_name)\n",
    "plt.show()"
   ]
  },
  {
   "cell_type": "markdown",
   "metadata": {
    "tags": [
     "pdf-inline"
    ]
   },
   "source": [
    "### Inline question 1:\n",
    "Describe the misclassification results that you see. Do they make sense?\n",
    "\n",
    "\n",
    "$\\color{blue}{\\textit Your Answer:}$\n",
    "\n",
    "\n"
   ]
  },
  {
   "cell_type": "markdown",
   "metadata": {},
   "source": [
    "## Neural Network on image features\n",
    "Earlier in this assigment we saw that training a two-layer neural network on raw pixels achieved better classification performance than linear classifiers on raw pixels. In this notebook we have seen that linear classifiers on image features outperform linear classifiers on raw pixels. \n",
    "\n",
    "For completeness, we should also try training a neural network on image features. This approach should outperform all previous approaches: you should easily be able to achieve over 55% classification accuracy on the test set; our best model achieves about 60% classification accuracy."
   ]
  },
  {
   "cell_type": "code",
   "execution_count": 9,
   "metadata": {
    "tags": [
     "pdf-ignore"
    ]
   },
   "outputs": [
    {
     "name": "stdout",
     "output_type": "stream",
     "text": [
      "(49000, 155)\n",
      "(49000, 154)\n"
     ]
    }
   ],
   "source": [
    "# Preprocessing: Remove the bias dimension\n",
    "# Make sure to run this cell only ONCE\n",
    "print(X_train_feats.shape)\n",
    "X_train_feats = X_train_feats[:, :-1]\n",
    "X_val_feats = X_val_feats[:, :-1]\n",
    "X_test_feats = X_test_feats[:, :-1]\n",
    "\n",
    "print(X_train_feats.shape)"
   ]
  },
  {
   "cell_type": "code",
   "execution_count": 19,
   "metadata": {
    "tags": [
     "code"
    ]
   },
   "outputs": [
    {
     "name": "stdout",
     "output_type": "stream",
     "text": [
      "D = 154\n",
      "H = 1000\n",
      "C = 10\n",
      "lr=0.1 reg=5e-06 iter=20000 lr_decay=0.95 batch_size=200\n",
      "iteration 0 / 20000: loss 2.302585\n",
      "iteration 100 / 20000: loss 2.300605\n",
      "iteration 200 / 20000: loss 2.074171\n",
      "iteration 300 / 20000: loss 1.822315\n",
      "iteration 400 / 20000: loss 1.581135\n",
      "iteration 500 / 20000: loss 1.560073\n",
      "iteration 600 / 20000: loss 1.395523\n",
      "iteration 700 / 20000: loss 1.400879\n",
      "iteration 800 / 20000: loss 1.354128\n",
      "iteration 900 / 20000: loss 1.316602\n",
      "iteration 1000 / 20000: loss 1.443340\n",
      "iteration 1100 / 20000: loss 1.383665\n",
      "iteration 1200 / 20000: loss 1.256887\n",
      "iteration 1300 / 20000: loss 1.223982\n",
      "iteration 1400 / 20000: loss 1.234293\n",
      "iteration 1500 / 20000: loss 1.376635\n",
      "iteration 1600 / 20000: loss 1.181370\n",
      "iteration 1700 / 20000: loss 1.216918\n",
      "iteration 1800 / 20000: loss 1.393982\n",
      "iteration 1900 / 20000: loss 1.301346\n",
      "iteration 2000 / 20000: loss 1.170029\n",
      "iteration 2100 / 20000: loss 1.257990\n",
      "iteration 2200 / 20000: loss 1.205423\n",
      "iteration 2300 / 20000: loss 1.060267\n",
      "iteration 2400 / 20000: loss 1.155508\n",
      "iteration 2500 / 20000: loss 1.245831\n",
      "iteration 2600 / 20000: loss 1.235992\n",
      "iteration 2700 / 20000: loss 1.111188\n",
      "iteration 2800 / 20000: loss 1.094068\n",
      "iteration 2900 / 20000: loss 1.296532\n",
      "iteration 3000 / 20000: loss 1.240315\n",
      "iteration 3100 / 20000: loss 1.141135\n",
      "iteration 3200 / 20000: loss 1.128646\n",
      "iteration 3300 / 20000: loss 1.103547\n",
      "iteration 3400 / 20000: loss 1.111445\n",
      "iteration 3500 / 20000: loss 1.089826\n",
      "iteration 3600 / 20000: loss 1.064179\n",
      "iteration 3700 / 20000: loss 1.080023\n",
      "iteration 3800 / 20000: loss 1.217722\n",
      "iteration 3900 / 20000: loss 1.104150\n",
      "iteration 4000 / 20000: loss 0.954239\n",
      "iteration 4100 / 20000: loss 1.031139\n",
      "iteration 4200 / 20000: loss 0.990382\n",
      "iteration 4300 / 20000: loss 1.082260\n",
      "iteration 4400 / 20000: loss 0.913967\n",
      "iteration 4500 / 20000: loss 0.975587\n",
      "iteration 4600 / 20000: loss 0.948434\n",
      "iteration 4700 / 20000: loss 0.989429\n",
      "iteration 4800 / 20000: loss 0.948981\n",
      "iteration 4900 / 20000: loss 1.184203\n",
      "iteration 5000 / 20000: loss 0.925613\n",
      "iteration 5100 / 20000: loss 0.940123\n",
      "iteration 5200 / 20000: loss 0.959789\n",
      "iteration 5300 / 20000: loss 0.923976\n",
      "iteration 5400 / 20000: loss 0.982802\n",
      "iteration 5500 / 20000: loss 0.894969\n",
      "iteration 5600 / 20000: loss 1.039023\n",
      "iteration 5700 / 20000: loss 1.121479\n",
      "iteration 5800 / 20000: loss 0.962843\n",
      "iteration 5900 / 20000: loss 1.085239\n",
      "iteration 6000 / 20000: loss 0.897407\n",
      "iteration 6100 / 20000: loss 1.012685\n",
      "iteration 6200 / 20000: loss 1.047547\n",
      "iteration 6300 / 20000: loss 0.947892\n",
      "iteration 6400 / 20000: loss 0.974053\n",
      "iteration 6500 / 20000: loss 0.934038\n",
      "iteration 6600 / 20000: loss 0.911360\n",
      "iteration 6700 / 20000: loss 0.993700\n",
      "iteration 6800 / 20000: loss 0.997275\n",
      "iteration 6900 / 20000: loss 0.952955\n",
      "iteration 7000 / 20000: loss 0.940229\n",
      "iteration 7100 / 20000: loss 1.023425\n",
      "iteration 7200 / 20000: loss 0.977179\n",
      "iteration 7300 / 20000: loss 0.891428\n",
      "iteration 7400 / 20000: loss 0.938985\n",
      "iteration 7500 / 20000: loss 1.007744\n",
      "iteration 7600 / 20000: loss 1.122771\n",
      "iteration 7700 / 20000: loss 0.989042\n",
      "iteration 7800 / 20000: loss 0.965843\n",
      "iteration 7900 / 20000: loss 0.921069\n",
      "iteration 8000 / 20000: loss 1.000254\n",
      "iteration 8100 / 20000: loss 0.926287\n",
      "iteration 8200 / 20000: loss 0.859665\n",
      "iteration 8300 / 20000: loss 0.868864\n",
      "iteration 8400 / 20000: loss 1.002628\n",
      "iteration 8500 / 20000: loss 0.828573\n",
      "iteration 8600 / 20000: loss 0.839662\n",
      "iteration 8700 / 20000: loss 0.866468\n",
      "iteration 8800 / 20000: loss 1.002887\n",
      "iteration 8900 / 20000: loss 0.814226\n",
      "iteration 9000 / 20000: loss 0.970067\n",
      "iteration 9100 / 20000: loss 0.882303\n",
      "iteration 9200 / 20000: loss 0.902095\n",
      "iteration 9300 / 20000: loss 0.994930\n",
      "iteration 9400 / 20000: loss 0.881571\n",
      "iteration 9500 / 20000: loss 0.929903\n",
      "iteration 9600 / 20000: loss 0.920168\n",
      "iteration 9700 / 20000: loss 0.960597\n",
      "iteration 9800 / 20000: loss 0.865416\n",
      "iteration 9900 / 20000: loss 0.938055\n",
      "iteration 10000 / 20000: loss 0.928782\n",
      "iteration 10100 / 20000: loss 0.809819\n",
      "iteration 10200 / 20000: loss 0.954856\n",
      "iteration 10300 / 20000: loss 1.030693\n",
      "iteration 10400 / 20000: loss 0.916196\n",
      "iteration 10500 / 20000: loss 0.892333\n",
      "iteration 10600 / 20000: loss 1.005107\n",
      "iteration 10700 / 20000: loss 0.851486\n",
      "iteration 10800 / 20000: loss 0.807303\n",
      "iteration 10900 / 20000: loss 0.930297\n",
      "iteration 11000 / 20000: loss 0.847200\n",
      "iteration 11100 / 20000: loss 0.994555\n",
      "iteration 11200 / 20000: loss 0.836637\n",
      "iteration 11300 / 20000: loss 0.979937\n",
      "iteration 11400 / 20000: loss 0.942758\n",
      "iteration 11500 / 20000: loss 0.918093\n",
      "iteration 11600 / 20000: loss 0.857074\n",
      "iteration 11700 / 20000: loss 1.020830\n",
      "iteration 11800 / 20000: loss 0.783792\n",
      "iteration 11900 / 20000: loss 0.984617\n",
      "iteration 12000 / 20000: loss 0.853350\n",
      "iteration 12100 / 20000: loss 0.868411\n",
      "iteration 12200 / 20000: loss 0.885030\n",
      "iteration 12300 / 20000: loss 0.941327\n",
      "iteration 12400 / 20000: loss 0.938558\n",
      "iteration 12500 / 20000: loss 1.024157\n",
      "iteration 12600 / 20000: loss 0.941861\n",
      "iteration 12700 / 20000: loss 0.938383\n",
      "iteration 12800 / 20000: loss 0.920042\n",
      "iteration 12900 / 20000: loss 0.897005\n",
      "iteration 13000 / 20000: loss 0.936365\n",
      "iteration 13100 / 20000: loss 0.801716\n",
      "iteration 13200 / 20000: loss 0.860179\n",
      "iteration 13300 / 20000: loss 0.846440\n",
      "iteration 13400 / 20000: loss 0.862740\n",
      "iteration 13500 / 20000: loss 0.915077\n",
      "iteration 13600 / 20000: loss 0.880128\n",
      "iteration 13700 / 20000: loss 0.911949\n",
      "iteration 13800 / 20000: loss 0.885049\n",
      "iteration 13900 / 20000: loss 0.888161\n",
      "iteration 14000 / 20000: loss 0.820093\n",
      "iteration 14100 / 20000: loss 0.924252\n",
      "iteration 14200 / 20000: loss 0.926766\n",
      "iteration 14300 / 20000: loss 0.874676\n",
      "iteration 14400 / 20000: loss 0.834861\n",
      "iteration 14500 / 20000: loss 0.830826\n",
      "iteration 14600 / 20000: loss 0.765027\n",
      "iteration 14700 / 20000: loss 0.779184\n",
      "iteration 14800 / 20000: loss 0.920304\n",
      "iteration 14900 / 20000: loss 0.791520\n",
      "iteration 15000 / 20000: loss 0.814011\n",
      "iteration 15100 / 20000: loss 0.859640\n",
      "iteration 15200 / 20000: loss 0.759068\n",
      "iteration 15300 / 20000: loss 0.802996\n",
      "iteration 15400 / 20000: loss 0.708532\n",
      "iteration 15500 / 20000: loss 0.935681\n",
      "iteration 15600 / 20000: loss 0.794614\n",
      "iteration 15700 / 20000: loss 0.783082\n",
      "iteration 15800 / 20000: loss 0.872622\n",
      "iteration 15900 / 20000: loss 0.900414\n",
      "iteration 16000 / 20000: loss 0.884446\n",
      "iteration 16100 / 20000: loss 0.864126\n",
      "iteration 16200 / 20000: loss 0.786348\n",
      "iteration 16300 / 20000: loss 0.827015\n",
      "iteration 16400 / 20000: loss 0.910604\n",
      "iteration 16500 / 20000: loss 0.793269\n",
      "iteration 16600 / 20000: loss 0.798419\n",
      "iteration 16700 / 20000: loss 0.691368\n",
      "iteration 16800 / 20000: loss 0.806283\n",
      "iteration 16900 / 20000: loss 0.789770\n",
      "iteration 17000 / 20000: loss 0.793919\n",
      "iteration 17100 / 20000: loss 0.930520\n",
      "iteration 17200 / 20000: loss 0.913695\n",
      "iteration 17300 / 20000: loss 0.834681\n",
      "iteration 17400 / 20000: loss 0.793425\n",
      "iteration 17500 / 20000: loss 0.895436\n",
      "iteration 17600 / 20000: loss 0.869387\n",
      "iteration 17700 / 20000: loss 0.789929\n",
      "iteration 17800 / 20000: loss 0.852088\n",
      "iteration 17900 / 20000: loss 0.804551\n",
      "iteration 18000 / 20000: loss 0.842798\n",
      "iteration 18100 / 20000: loss 0.838579\n",
      "iteration 18200 / 20000: loss 0.856371\n",
      "iteration 18300 / 20000: loss 0.828689\n",
      "iteration 18400 / 20000: loss 0.747847\n",
      "iteration 18500 / 20000: loss 0.845105\n",
      "iteration 18600 / 20000: loss 0.797516\n",
      "iteration 18700 / 20000: loss 0.877293\n",
      "iteration 18800 / 20000: loss 0.898173\n",
      "iteration 18900 / 20000: loss 0.997780\n",
      "iteration 19000 / 20000: loss 0.873580\n",
      "iteration 19100 / 20000: loss 0.932107\n",
      "iteration 19200 / 20000: loss 0.915401\n",
      "iteration 19300 / 20000: loss 0.793346\n",
      "iteration 19400 / 20000: loss 0.867784\n",
      "iteration 19500 / 20000: loss 0.854903\n",
      "iteration 19600 / 20000: loss 0.892458\n",
      "iteration 19700 / 20000: loss 0.839312\n",
      "iteration 19800 / 20000: loss 0.858933\n",
      "iteration 19900 / 20000: loss 0.846040\n",
      "val_acc=0.592\n"
     ]
    },
    {
     "data": {
      "image/png": "[encoded data removed]",
      "text/plain": [
       "<Figure size 432x288 with 2 Axes>"
      ]
     },
     "metadata": {
      "needs_background": "light"
     },
     "output_type": "display_data"
    }
   ],
   "source": [
    "from cs231n.classifiers.neural_net import TwoLayerNet\n",
    "\n",
    "best_net = None\n",
    "\n",
    "################################################################################\n",
    "# TODO: Train a two-layer neural network on image features. You may want to    #\n",
    "# cross-validate various parameters as in previous sections. Store your best   #\n",
    "# model in the best_net variable.                                              #\n",
    "################################################################################\n",
    "# *****START OF YOUR CODE (DO NOT DELETE/MODIFY THIS LINE)*****\n",
    "\n",
    "NUM_ITERS = 20000\n",
    "LR_DECAY = 0.95\n",
    "BATCH_SIZE = 200\n",
    "VERBOSE = True\n",
    "\n",
    "D = X_train_feats.shape[1]\n",
    "C = 10\n",
    "\n",
    "# .0001, .000001, ...\n",
    "lr_rates = [.1]\n",
    "\n",
    "hidden_sizes = [1000]\n",
    "\n",
    "reg_rates = [ 5e-06 ]\n",
    "\n",
    "best_stats = None\n",
    "val_acc_max = 0\n",
    "for lr in lr_rates:\n",
    "    for reg in reg_rates:\n",
    "        for h in hidden_sizes:\n",
    "            net = TwoLayerNet(D, h, C)\n",
    "            print(f'D = {D}')\n",
    "            print(f'H = {h}')\n",
    "            print(f'C = {C}')\n",
    "            print(f'lr={lr} reg={reg} iter={NUM_ITERS} lr_decay={LR_DECAY} batch_size={BATCH_SIZE}')\n",
    "            stats = net.train(X_train_feats, y_train, X_val_feats, y_val,\n",
    "              learning_rate=lr, learning_rate_decay=LR_DECAY,\n",
    "              reg=reg, num_iters=NUM_ITERS,\n",
    "              batch_size=BATCH_SIZE, verbose=VERBOSE)\n",
    "\n",
    "            val_acc = (np.mean(y_val == net.predict(X_val_feats)))\n",
    "            \n",
    "            print(f'val_acc={val_acc}')\n",
    "        \n",
    "            if val_acc > val_acc_max:\n",
    "                best_net = net\n",
    "                best_stats = stats\n",
    "                best_params = [lr, reg, h]\n",
    "                val_acc_max = val_acc\n",
    "                \n",
    "            \n",
    "stats = best_stats\n",
    "# Plot the loss function and train / validation accuracies\n",
    "plt.subplot(2, 1, 1)\n",
    "plt.plot(stats['loss_history'])\n",
    "plt.title('Loss history')\n",
    "plt.xlabel('Iteration')\n",
    "plt.ylabel('Loss')\n",
    "\n",
    "plt.subplot(2, 1, 2)\n",
    "plt.plot(stats['train_acc_history'], label='train')\n",
    "plt.plot(stats['val_acc_history'], label='val')\n",
    "plt.title('Classification accuracy history')\n",
    "plt.xlabel('Epoch')\n",
    "plt.ylabel('Classification accuracy')\n",
    "plt.legend()\n",
    "plt.show()\n",
    "# *****END OF YOUR CODE (DO NOT DELETE/MODIFY THIS LINE)*****\n"
   ]
  },
  {
   "cell_type": "code",
   "execution_count": 20,
   "metadata": {},
   "outputs": [
    {
     "name": "stdout",
     "output_type": "stream",
     "text": [
      "0.602\n"
     ]
    }
   ],
   "source": [
    "# Run your best neural net classifier on the test set. You should be able\n",
    "# to get more than 55% accuracy.\n",
    "\n",
    "test_acc = (best_net.predict(X_test_feats) == y_test).mean()\n",
    "print(test_acc)"
   ]
  },
  {
   "cell_type": "code",
   "execution_count": null,
   "metadata": {},
   "outputs": [],
   "source": []
  }
 ],
 "metadata": {
  "kernelspec": {
   "display_name": "Python 3",
   "language": "python",
   "name": "python3"
  },
  "language_info": {
   "codemirror_mode": {
    "name": "ipython",
    "version": 3
   },
   "file_extension": ".py",
   "mimetype": "text/x-python",
   "name": "python",
   "nbconvert_exporter": "python",
   "pygments_lexer": "ipython3",
   "version": "3.7.4"
  }
 },
 "nbformat": 4,
 "nbformat_minor": 1
}
